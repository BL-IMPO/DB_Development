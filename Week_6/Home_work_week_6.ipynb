{
 "cells": [
  {
   "cell_type": "markdown",
   "id": "c0ff57d0-f3b2-4899-9282-7a8a7d326860",
   "metadata": {},
   "source": [
    "У меня есть таблица **count_of_books** в базе данных о книгах. В этой таблице два столбца:  \n",
    "- **label** — название жанра  \n",
    "- **count** — количество книг в этом жанре  \n",
    "\n",
    "Предположим я обнаружил, что одна книга была ошибочно записана в жанре **Physics**, а на самом деле она относится к жанру **Computer Science**. Нужно откорректировать данные.\n"
   ]
  },
  {
   "cell_type": "markdown",
   "id": "4dd9833c-e181-4117-aced-859f160a9319",
   "metadata": {},
   "source": [
    "1. **Начало транзакции**: Для начала фиксируем начало операции.  \n",
    "```\n",
    "BEGIN TRANSACTION;\n",
    "```\n",
    "\n",
    "2. **Обновление количества в старом жанре**: Поскольку книга была ошибочно отнесена к жанру \"Physics\", нужно уменьшить количество книг в этом жанре на 1. \n",
    "```\n",
    "UPDATE count_of_books\n",
    "SET count = count - 1\n",
    "WHERE label = 'Physics';\n",
    "```\n",
    "\n",
    "3. **Обновление количества в новом жанре**: Книга должна быть добавлена к жанру \"Computer Science\". Поэтому увеличиваем количество книг в этом жанре на 1.  \n",
    "```\n",
    "UPDATE count_of_books\n",
    "SET count = count + 1\n",
    "WHERE label = 'Computer Science';\n",
    "```\n",
    "\n",
    "4. **Проверка данных**: На этом этапе система проверяет целостность данных. Если данные корректны и нет ошибок, то транзакция фиксируется. Если возникла ошибка (например, жанр \"Computer Science\" не существует), изменения будут отменены.  \n",
    "\n",
    "5. **Фиксация изменений**: Если все шаги прошли успешно, изменения записываются в базу данных. Это завершает транзакцию.  \n",
    "```\n",
    "COMMIT;\n",
    "```"
   ]
  },
  {
   "cell_type": "markdown",
   "id": "e0e5034f-9269-452d-b73a-f59bab9906a3",
   "metadata": {},
   "source": [
    "Вся транзакция целиком."
   ]
  },
  {
   "cell_type": "raw",
   "id": "b09819c2-b8ff-43ae-99b7-3b2de56ea66b",
   "metadata": {},
   "source": [
    "-- Начало транзакции\n",
    "BEGIN TRANSACTION;\n",
    "\n",
    "-- Уменьшаем количество книг в жанре Physics на 1\n",
    "UPDATE count_of_books\n",
    "SET count = count - 1\n",
    "WHERE label = 'Physics';\n",
    "\n",
    "-- Увеличиваем количество книг в жанре Computer Science на 1\n",
    "UPDATE count_of_books\n",
    "SET count = count + 1\n",
    "WHERE label = 'Computer Science';\n",
    "\n",
    "-- Проверяем, что изменения прошли успешно\n",
    "-- Если всё в порядке, фиксируем изменения\n",
    "COMMIT;"
   ]
  }
 ],
 "metadata": {
  "kernelspec": {
   "display_name": "DB",
   "language": "python",
   "name": "db"
  },
  "language_info": {
   "codemirror_mode": {
    "name": "ipython",
    "version": 3
   },
   "file_extension": ".py",
   "mimetype": "text/x-python",
   "name": "python",
   "nbconvert_exporter": "python",
   "pygments_lexer": "ipython3",
   "version": "3.10.9"
  }
 },
 "nbformat": 4,
 "nbformat_minor": 5
}
