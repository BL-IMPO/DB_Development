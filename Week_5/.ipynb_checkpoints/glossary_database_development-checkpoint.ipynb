{
 "cells": [
  {
   "cell_type": "markdown",
   "id": "2a3026f8-5b24-44f6-b9d7-bb49d5c596ef",
   "metadata": {},
   "source": [
    "We will read .txt file and then put data inside it in new database."
   ]
  },
  {
   "cell_type": "code",
   "execution_count": 9,
   "id": "5b434fc1-728b-4549-a8de-e33d2d4bfcde",
   "metadata": {},
   "outputs": [],
   "source": [
    "import pandas as pd\n",
    "import psycopg2"
   ]
  },
  {
   "cell_type": "code",
   "execution_count": 10,
   "id": "d25d5e7b-c4da-48ab-8759-c743b5de2ec9",
   "metadata": {},
   "outputs": [
    {
     "data": {
      "text/html": [
       "<div>\n",
       "<style scoped>\n",
       "    .dataframe tbody tr th:only-of-type {\n",
       "        vertical-align: middle;\n",
       "    }\n",
       "\n",
       "    .dataframe tbody tr th {\n",
       "        vertical-align: top;\n",
       "    }\n",
       "\n",
       "    .dataframe thead th {\n",
       "        text-align: right;\n",
       "    }\n",
       "</style>\n",
       "<table border=\"1\" class=\"dataframe\">\n",
       "  <thead>\n",
       "    <tr style=\"text-align: right;\">\n",
       "      <th></th>\n",
       "      <th>Terms</th>\n",
       "      <th>Definitions</th>\n",
       "    </tr>\n",
       "  </thead>\n",
       "  <tbody>\n",
       "    <tr>\n",
       "      <th>0</th>\n",
       "      <td>Cold Backup</td>\n",
       "      <td>A cold backup is a consistent copy of all file...</td>\n",
       "    </tr>\n",
       "    <tr>\n",
       "      <th>1</th>\n",
       "      <td>Hot Continuous Archiving</td>\n",
       "      <td>Consists of a base backup (copy of all cluster...</td>\n",
       "    </tr>\n",
       "    <tr>\n",
       "      <th>2</th>\n",
       "      <td>Hot Logical Backup (pg_dump)</td>\n",
       "      <td>A logical backup captures data within a databa...</td>\n",
       "    </tr>\n",
       "    <tr>\n",
       "      <th>3</th>\n",
       "      <td>NF</td>\n",
       "      <td>First normal form: Each table column contains ...</td>\n",
       "    </tr>\n",
       "    <tr>\n",
       "      <th>4</th>\n",
       "      <td>NF</td>\n",
       "      <td>Second normal form: Meets 1NF, and non-candida...</td>\n",
       "    </tr>\n",
       "    <tr>\n",
       "      <th>5</th>\n",
       "      <td>NF</td>\n",
       "      <td>Third normal form: Meets 2NF, and no transitiv...</td>\n",
       "    </tr>\n",
       "    <tr>\n",
       "      <th>6</th>\n",
       "      <td>NF</td>\n",
       "      <td>Fourth normal form: Meets BCNF, and non-trivia...</td>\n",
       "    </tr>\n",
       "    <tr>\n",
       "      <th>7</th>\n",
       "      <td>ABSOLUTE</td>\n",
       "      <td>Specifies an absolute cursor position.</td>\n",
       "    </tr>\n",
       "    <tr>\n",
       "      <th>8</th>\n",
       "      <td>Access Control</td>\n",
       "      <td>Regulates access to data (read, modify, copy, ...</td>\n",
       "    </tr>\n",
       "    <tr>\n",
       "      <th>9</th>\n",
       "      <td>Access Control List (ACL)</td>\n",
       "      <td>A security policy listing user/process permiss...</td>\n",
       "    </tr>\n",
       "  </tbody>\n",
       "</table>\n",
       "</div>"
      ],
      "text/plain": [
       "                          Terms  \\\n",
       "0                   Cold Backup   \n",
       "1      Hot Continuous Archiving   \n",
       "2  Hot Logical Backup (pg_dump)   \n",
       "3                            NF   \n",
       "4                            NF   \n",
       "5                            NF   \n",
       "6                            NF   \n",
       "7                      ABSOLUTE   \n",
       "8                Access Control   \n",
       "9     Access Control List (ACL)   \n",
       "\n",
       "                                         Definitions  \n",
       "0  A cold backup is a consistent copy of all file...  \n",
       "1  Consists of a base backup (copy of all cluster...  \n",
       "2  A logical backup captures data within a databa...  \n",
       "3  First normal form: Each table column contains ...  \n",
       "4  Second normal form: Meets 1NF, and non-candida...  \n",
       "5  Third normal form: Meets 2NF, and no transitiv...  \n",
       "6  Fourth normal form: Meets BCNF, and non-trivia...  \n",
       "7             Specifies an absolute cursor position.  \n",
       "8  Regulates access to data (read, modify, copy, ...  \n",
       "9  A security policy listing user/process permiss...  "
      ]
     },
     "execution_count": 10,
     "metadata": {},
     "output_type": "execute_result"
    }
   ],
   "source": [
    "terms = []\n",
    "definitions = []\n",
    "\n",
    "with open(\"raw_sorted_data.txt\", \"r\") as file:\n",
    "    lines = [line for line in file.readlines()]\n",
    "\n",
    "    for line in lines:\n",
    "        term, definition = line.split(\" - \")\n",
    "        terms.append(term[2:])\n",
    "        definitions.append(definition[:-3])\n",
    "\n",
    "df = pd.DataFrame({\"Terms\" : terms, \"Definitions\" : definitions})\n",
    "df.head(10)"
   ]
  },
  {
   "cell_type": "code",
   "execution_count": 11,
   "id": "c7edc3da-fdf7-41c1-ba46-4ce875fdc844",
   "metadata": {},
   "outputs": [],
   "source": [
    "df.to_csv(\"Sorted_Data.csv\")"
   ]
  },
  {
   "cell_type": "code",
   "execution_count": 12,
   "id": "b466a767-84de-477f-93e1-db297e7434a1",
   "metadata": {},
   "outputs": [
    {
     "name": "stdout",
     "output_type": "stream",
     "text": [
      "34\n",
      "179\n"
     ]
    }
   ],
   "source": [
    "terms_max_size = max(map(len, terms))\n",
    "definitions_max_size = max(map(len, definitions))\n",
    "print(terms_max_size)\n",
    "print(definitions_max_size)"
   ]
  },
  {
   "cell_type": "markdown",
   "id": "7f09296c-3f9c-45f8-b0ff-3448a0a0b049",
   "metadata": {},
   "source": [
    "Now we will create database"
   ]
  },
  {
   "cell_type": "code",
   "execution_count": 13,
   "id": "784bf6fe-339b-4b21-aadc-82853310b0dd",
   "metadata": {},
   "outputs": [],
   "source": [
    "conn = psycopg2.connect(database = \"DB_GLOSSARY\",\n",
    "                       user = \"postgres\",\n",
    "                       host = \"127.0.0.1\",\n",
    "                       password = \"25072004\",\n",
    "                       port = 5432)\n",
    "\n",
    "cur = conn.cursor()"
   ]
  },
  {
   "cell_type": "code",
   "execution_count": 14,
   "id": "0d4b92f8-18cf-4f57-a0f7-a33cd27c1099",
   "metadata": {},
   "outputs": [],
   "source": [
    "quiry = \"\"\"\n",
    "        CREATE TABLE glossary(\n",
    "            term VARCHAR (50),\n",
    "            definition VARCHAR (400));\n",
    "        \"\"\"\n",
    "\n",
    "cur.execute(quiry)\n",
    "conn.commit()"
   ]
  },
  {
   "cell_type": "code",
   "execution_count": 15,
   "id": "51dcd929-2905-4d7d-95c4-51640e01f85a",
   "metadata": {},
   "outputs": [],
   "source": [
    "\n",
    "for term, definition in zip(terms, definitions):\n",
    "    cur.execute(\n",
    "        f\"\"\"\n",
    "        INSERT INTO glossary (term, definition) VALUES ('{term}', '{definition}');\n",
    "        \"\"\"\n",
    "    )\n",
    "\n",
    "    conn.commit()\n",
    "    "
   ]
  },
  {
   "cell_type": "code",
   "execution_count": 16,
   "id": "caaa7e3f-2efb-42a1-b76a-a3f5d76299ba",
   "metadata": {},
   "outputs": [
    {
     "name": "stdout",
     "output_type": "stream",
     "text": [
      "(147,)\n"
     ]
    }
   ],
   "source": [
    "cur.execute(\"SELECT COUNT(*) FROM glossary;\")\n",
    "rows = cur.fetchall()\n",
    "conn.commit()\n",
    "for row in rows:\n",
    "    print(row)"
   ]
  },
  {
   "cell_type": "code",
   "execution_count": 17,
   "id": "ac3b3d3c-07ac-4515-a74a-80a2695a5632",
   "metadata": {},
   "outputs": [],
   "source": [
    "cur.close()\n",
    "conn.close()"
   ]
  },
  {
   "cell_type": "code",
   "execution_count": null,
   "id": "391039d9-6878-474d-a6ca-91d1417eb783",
   "metadata": {},
   "outputs": [],
   "source": []
  }
 ],
 "metadata": {
  "kernelspec": {
   "display_name": "DB",
   "language": "python",
   "name": "db"
  },
  "language_info": {
   "codemirror_mode": {
    "name": "ipython",
    "version": 3
   },
   "file_extension": ".py",
   "mimetype": "text/x-python",
   "name": "python",
   "nbconvert_exporter": "python",
   "pygments_lexer": "ipython3",
   "version": "3.10.9"
  }
 },
 "nbformat": 4,
 "nbformat_minor": 5
}
