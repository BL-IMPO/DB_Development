{
 "cells": [
  {
   "cell_type": "markdown",
   "id": "f6fede35-cb83-4095-832e-a129f485293a",
   "metadata": {},
   "source": [
    "# Lab Work 4"
   ]
  },
  {
   "cell_type": "markdown",
   "id": "e0cafb97-964e-424c-85ff-35b25cc31524",
   "metadata": {},
   "source": [
    "<h2>Add to database module</h2>"
   ]
  },
  {
   "cell_type": "raw",
   "id": "f5d33fce-d554-49ad-8ed1-d6fa1b41243e",
   "metadata": {},
   "source": [
    "    def insert_book(self):\n",
    "        conn = psycopg2.connect(\n",
    "            database=\"Technical_Literature\",\n",
    "            user=\"postgres\",\n",
    "            host='127.0.0.1',\n",
    "            password=\"25072004\",\n",
    "            port=5432\n",
    "        )\n",
    "        cur = conn.cursor()\n",
    "\n",
    "        query_books = f\"\"\"INSERT INTO books (label, book_id, title, year, author) \n",
    "                    VALUES ('{self.ids.book_genre.text}',\n",
    "                            {self.book_id} , \n",
    "                            '{self.ids.book_title.text}', \n",
    "                            {self.ids.book_year.text}, \n",
    "                            '{self.ids.book_author.text}');\"\"\"\n",
    "\n",
    "        query_additional = f\"\"\"UPDATE aditional_information \n",
    "                               SET pages = {self.ids.book_pages.text},\n",
    "                               description = '{self.ids.book_description.text}'\n",
    "                               WHERE book_id = {self.book_id};\n",
    "                               \"\"\"\n",
    "        cur.execute(query_books)\n",
    "        conn.commit()\n",
    "        cur.execute(query_additional)\n",
    "        conn.commit()\n",
    "\n",
    "        # updating book_id\n",
    "        last_book_id.book_id_save(self.book_id + 1)\n",
    "        print(\"Current last book_id: \", self.book_id)\n",
    "\n",
    "        cur.close()\n",
    "        conn.close()"
   ]
  },
  {
   "cell_type": "markdown",
   "id": "a22e6c93-e927-44a9-9477-d1954b9ee571",
   "metadata": {},
   "source": [
    "Данный код получает пользовательский ввод и сохраняет его сначала в таблицу books а затем в таблице aditional_information сохраняется дополнительная информация. Важным элементом является работа с book_id для этого была создана функция, которая возвращает нынешний book_id, а также функция которая его перезаписывает."
   ]
  },
  {
   "cell_type": "raw",
   "id": "342ce233-bec9-42d0-8a60-4092ea04ccc1",
   "metadata": {},
   "source": [
    "query_books = f\"\"\"INSERT INTO books (label, book_id, title, year, author) \n",
    "                    VALUES ('{self.ids.book_genre.text}',\n",
    "                            {self.book_id} , \n",
    "                            '{self.ids.book_title.text}', \n",
    "                            {self.ids.book_year.text}, \n",
    "                            '{self.ids.book_author.text}');\"\"\""
   ]
  },
  {
   "cell_type": "markdown",
   "id": "f4cc09a4-7b2f-4ccb-a0a7-f14a792548eb",
   "metadata": {},
   "source": [
    "В данном запросе мы записыввем данные введенниые пользователем в таблицу books, так как данная таблица связана с таблицей aditional_information полем book_id c каскадным обновлением и удалением, то в таблице aditional_information автоматически создается строка с book_id. Далее нам остается лишь с помощью следующего запроса обновить эти данные."
   ]
  },
  {
   "cell_type": "raw",
   "id": "0894ae4b-2f47-40e7-a6b0-564097bc0127",
   "metadata": {},
   "source": [
    "query_additional = f\"\"\"UPDATE aditional_information \n",
    "                               SET pages = {self.ids.book_pages.text},\n",
    "                               description = '{self.ids.book_description.text}'\n",
    "                               WHERE book_id = {self.book_id};\n",
    "                               \"\"\""
   ]
  },
  {
   "cell_type": "raw",
   "id": "d1f5a1ac-5cae-451f-b19f-562da111e290",
   "metadata": {},
   "source": [
    "last_book_id.book_id_save(self.book_id + 1)"
   ]
  },
  {
   "cell_type": "markdown",
   "id": "757360c0-2491-4f62-9525-3e958660f758",
   "metadata": {},
   "source": [
    "В данной сктроке происходит увеличение book_id на одну единицу и запись этих данных в файл last_book_id.dat. Данный файл хранит последний book_id. Запись происходит с помощью модуля pickle. "
   ]
  },
  {
   "cell_type": "markdown",
   "id": "cdc30251-3bbe-44b0-8063-eb83563ef994",
   "metadata": {},
   "source": [
    "<h2>Delete from database module</h2>"
   ]
  },
  {
   "cell_type": "raw",
   "id": "d79371d0-6595-48e1-9efa-1a0ffa3cbbbb",
   "metadata": {},
   "source": [
    "    def check_book(self):\n",
    "        conn = psycopg2.connect(\n",
    "            database=\"Technical_Literature\",\n",
    "            user=\"postgres\",\n",
    "            host='127.0.0.1',\n",
    "            password=\"25072004\",\n",
    "            port=5432\n",
    "        )\n",
    "        cur = conn.cursor()\n",
    "\n",
    "        if self.check_book_existence():\n",
    "            query_all = f\"\"\"\n",
    "                    SELECT books.book_id, books.author, books.label, books.title, books.year, aditional_information.pages\n",
    "                    FROM books\n",
    "                    LEFT JOIN aditional_information ON books.book_id = aditional_information.book_id\n",
    "                    WHERE  books.book_id = {self.book_id};\n",
    "                    \"\"\"\n",
    "\n",
    "            cur.execute(query_all)\n",
    "            books = cur.fetchall()\n",
    "\n",
    "            current_books = [[book_id, author, genre, title, year, pages] for book_id, author, genre, title, year, pages in books]\n",
    "            self.change_labels(current_books)\n",
    "\n",
    "            # changing mode\n",
    "            self.mode = 1\n",
    "\n",
    "        else:\n",
    "            current_books = [[\"Not exist\", \"Not exist\", \"Not exist\", \"Not exist\", \"Not exist\", \"Not exist\"]]\n",
    "            self.change_labels(current_books)\n",
    "            print(\"Doesn't exist!\")\n",
    "\n",
    "        cur.close()\n",
    "        conn.close()"
   ]
  },
  {
   "cell_type": "markdown",
   "id": "3042b663-3bd0-4ceb-a152-eae2dce8e4db",
   "metadata": {},
   "source": [
    "В данной функции происходит удаление строки в таблице books, а так как она связана с таблицей aditional_information, то и в ней.\n",
    "Прежде чем удалить запись нужно убедиться что данная запись существует. Для этого используется следующая функция:"
   ]
  },
  {
   "cell_type": "raw",
   "id": "15f7b828-2813-49c2-bd52-2b1b335e50af",
   "metadata": {},
   "source": [
    "    def check_book_existence(self):\n",
    "        self.book_id = self.ids.book_delete_id.text\n",
    "\n",
    "        conn = psycopg2.connect(\n",
    "            database=\"Technical_Literature\",\n",
    "            user=\"postgres\",\n",
    "            host='127.0.0.1',\n",
    "            password=\"25072004\",\n",
    "            port=5432\n",
    "        )\n",
    "        cur = conn.cursor()\n",
    "\n",
    "        query_all = f\"\"\"SELECT EXISTS(SELECT 1 FROM books WHERE book_id = {self.book_id});\"\"\"\n",
    "\n",
    "        cur.execute(query_all)\n",
    "        check = cur.fetchall()\n",
    "\n",
    "        return check[0][0]"
   ]
  },
  {
   "cell_type": "raw",
   "id": "c7a10513-d866-4e79-9852-77258de28082",
   "metadata": {},
   "source": [
    "query_all = f\"\"\"SELECT EXISTS(SELECT 1 FROM books WHERE book_id = {self.book_id});\"\"\""
   ]
  },
  {
   "cell_type": "markdown",
   "id": "d9de74bc-3ef1-492b-a37a-3800b9fe3c36",
   "metadata": {},
   "source": [
    "В данном запросе по book_id мы проверяем существует ли запись и возвращаем пезультат проверки."
   ]
  },
  {
   "cell_type": "code",
   "execution_count": null,
   "id": "07d273b8-083d-4f36-80d7-863d30271be1",
   "metadata": {},
   "outputs": [],
   "source": []
  }
 ],
 "metadata": {
  "kernelspec": {
   "display_name": "DB",
   "language": "python",
   "name": "db"
  },
  "language_info": {
   "codemirror_mode": {
    "name": "ipython",
    "version": 3
   },
   "file_extension": ".py",
   "mimetype": "text/x-python",
   "name": "python",
   "nbconvert_exporter": "python",
   "pygments_lexer": "ipython3",
   "version": "3.10.9"
  }
 },
 "nbformat": 4,
 "nbformat_minor": 5
}
