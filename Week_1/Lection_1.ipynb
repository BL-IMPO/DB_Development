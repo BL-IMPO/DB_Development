{
 "cells": [
  {
   "cell_type": "code",
   "execution_count": null,
   "id": "a5311297-2b04-4943-9f7c-da0d3d9c6f10",
   "metadata": {},
   "outputs": [],
   "source": [
    "import jupysql"
   ]
  },
  {
   "cell_type": "code",
   "execution_count": null,
   "id": "c8edd9d5-76a1-40ef-89bd-987e5085f0fe",
   "metadata": {},
   "outputs": [],
   "source": []
  }
 ],
 "metadata": {
  "kernelspec": {
   "display_name": "",
   "name": ""
  },
  "language_info": {
   "name": ""
  }
 },
 "nbformat": 4,
 "nbformat_minor": 5
}
